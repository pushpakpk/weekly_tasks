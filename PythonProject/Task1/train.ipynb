{
 "cells": [
  {
   "cell_type": "code",
   "id": "initial_id",
   "metadata": {
    "collapsed": true,
    "jupyter": {
     "is_executing": true
    }
   },
   "source": [
    "# Cell 1: imports and seeding\n",
    "import numpy as np\n",
    "import matplotlib.pyplot as plt\n",
    "from Task1.model import Dense, ReLU, Sigmoid, MSELoss, SGD, NeuralNet\n",
    "np.random.seed(42)\n"
   ],
   "outputs": [],
   "execution_count": null
  },
  {
   "metadata": {
    "jupyter": {
     "is_executing": true
    }
   },
   "cell_type": "code",
   "source": [
    "# Cell 2: generate synthetic dataset (noisy cubic function)\n",
    "def make_data(n=1000, noise_std=4.0):\n",
    "    X = np.random.uniform(-3, 3, size=(n, 1))\n",
    "    # non-trivial function: cubic + quadratic + linear\n",
    "    y = 0.5 * X[:, 0]**3 - 1.2 * X[:, 0]**2 + 0.3 * X[:, 0] + 2.0\n",
    "    y = y.reshape(-1, 1)\n",
    "    y = y + np.random.normal(scale=noise_std, size=y.shape)\n",
    "    return X.astype(np.float64), y.astype(np.float64)\n",
    "\n",
    "X, y = make_data(2000, noise_std=6.0)\n",
    "plt.scatter(X, y, s=6); plt.title(\"Training data (noisy cubic)\")\n"
   ],
   "id": "dee8adf50809cbd1",
   "outputs": [],
   "execution_count": null
  },
  {
   "metadata": {},
   "cell_type": "code",
   "outputs": [],
   "execution_count": null,
   "source": [
    "# Cell 3: build network\n",
    "layers = [\n",
    "    Dense(1, 64, seed=1),\n",
    "    ReLU(),\n",
    "    Dense(64, 64, seed=2),\n",
    "    ReLU(),\n",
    "    Dense(64, 1, seed=3)\n",
    "]\n",
    "net = NeuralNet(layers)\n",
    "loss_fn = MSELoss()\n",
    "opt = SGD(lr=1e-3)\n"
   ],
   "id": "99a7aa61685e4d9"
  },
  {
   "metadata": {},
   "cell_type": "code",
   "outputs": [],
   "execution_count": null,
   "source": [
    "# Cell 4: training loop with mini-batches\n",
    "def iterate_minibatches(X, y, batch_size=64, shuffle=True):\n",
    "    idx = np.arange(X.shape[0])\n",
    "    if shuffle:\n",
    "        np.random.shuffle(idx)\n",
    "    for i in range(0, X.shape[0], batch_size):\n",
    "        batch_idx = idx[i:i+batch_size]\n",
    "        yield X[batch_idx], y[batch_idx]\n",
    "\n",
    "epochs = 300\n",
    "batch_size = 64\n",
    "loss_history = []\n",
    "\n",
    "for ep in range(epochs):\n",
    "    epoch_loss = 0.0\n",
    "    count = 0\n",
    "    for xb, yb in iterate_minibatches(X, y, batch_size):\n",
    "        preds = net.forward(xb)\n",
    "        loss = loss_fn.forward(preds, yb)\n",
    "        epoch_loss += loss * xb.shape[0]\n",
    "        count += xb.shape[0]\n",
    "        # backward\n",
    "        dloss = loss_fn.backward()  # gradient w.r.t preds\n",
    "        net.backward(dloss)\n",
    "        # collect params and grads and update\n",
    "        opt.step(net.parameters_and_grads())\n",
    "    loss_history.append(epoch_loss / count)\n",
    "    if (ep+1) % 50 == 0:\n",
    "        print(f\"Epoch {ep+1}/{epochs} loss: {loss_history[-1]:.4f}\")\n"
   ],
   "id": "b83bd7c493e64a46"
  },
  {
   "metadata": {},
   "cell_type": "code",
   "outputs": [],
   "execution_count": null,
   "source": [
    "# Cell 5: plot loss curve\n",
    "plt.plot(loss_history)\n",
    "plt.yscale('log')\n",
    "plt.xlabel('Epoch'); plt.ylabel('MSE loss (log scale)')\n",
    "plt.title('Training loss')\n"
   ],
   "id": "48a34068d41b33b4"
  },
  {
   "metadata": {},
   "cell_type": "code",
   "outputs": [],
   "execution_count": null,
   "source": [
    "# Cell 6: final prediction vs ground truth\n",
    "X_test = np.linspace(-3.5, 3.5, 400).reshape(-1,1)\n",
    "y_true = 0.5 * X_test[:, 0]**3 - 1.2 * X_test[:, 0]**2 + 0.3 * X_test[:, 0] + 2.0\n",
    "y_pred = net.forward(X_test)\n",
    "\n",
    "plt.scatter(X, y, s=6, alpha=0.2, label='train')\n",
    "plt.plot(X_test, y_true, label='ground truth', linewidth=2)\n",
    "plt.plot(X_test, y_pred, label='prediction', linewidth=2)\n",
    "plt.legend(); plt.title('Prediction vs ground truth')\n"
   ],
   "id": "3297b6e0ce2afb35"
  },
  {
   "metadata": {},
   "cell_type": "code",
   "outputs": [],
   "execution_count": null,
   "source": "",
   "id": "6006115384d1a885"
  },
  {
   "metadata": {},
   "cell_type": "code",
   "outputs": [],
   "execution_count": null,
   "source": "",
   "id": "2e90bd07acd71466"
  },
  {
   "metadata": {},
   "cell_type": "code",
   "outputs": [],
   "execution_count": null,
   "source": "",
   "id": "a892dd11588eb38a"
  },
  {
   "metadata": {},
   "cell_type": "code",
   "outputs": [],
   "execution_count": null,
   "source": "",
   "id": "5e54669d90a61cd5"
  },
  {
   "metadata": {},
   "cell_type": "code",
   "outputs": [],
   "execution_count": null,
   "source": "",
   "id": "6567af8ed59f5af8"
  }
 ],
 "metadata": {
  "kernelspec": {
   "display_name": "Python 3",
   "language": "python",
   "name": "python3"
  },
  "language_info": {
   "codemirror_mode": {
    "name": "ipython",
    "version": 2
   },
   "file_extension": ".py",
   "mimetype": "text/x-python",
   "name": "python",
   "nbconvert_exporter": "python",
   "pygments_lexer": "ipython2",
   "version": "2.7.6"
  }
 },
 "nbformat": 4,
 "nbformat_minor": 5
}
