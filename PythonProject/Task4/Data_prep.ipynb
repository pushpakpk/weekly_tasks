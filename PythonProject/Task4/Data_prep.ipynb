{
 "cells": [
  {
   "cell_type": "code",
   "id": "initial_id",
   "metadata": {
    "collapsed": true,
    "jupyter": {
     "is_executing": true
    }
   },
   "source": [
    "# Cell 1: imports\n",
    "import pandas as pd\n",
    "import numpy as np\n",
    "from sklearn.impute import SimpleImputer\n",
    "from sklearn.preprocessing import StandardScaler\n",
    "from sklearn.preprocessing import PolynomialFeatures\n"
   ],
   "outputs": [],
   "execution_count": null
  },
  {
   "metadata": {},
   "cell_type": "code",
   "outputs": [],
   "execution_count": null,
   "source": [
    "# Cell 2: load messy CSV\n",
    "df = pd.read_csv('Task4/messy_dataset.csv')  # supply your file\n",
    "df.info()\n",
    "df.head()\n"
   ],
   "id": "750fd829eed29b71"
  },
  {
   "metadata": {},
   "cell_type": "code",
   "outputs": [],
   "execution_count": null,
   "source": [
    "# Cell 3: missing data summary\n",
    "missing = df.isna().sum().sort_values(ascending=False)\n",
    "missing[missing > 0]\n"
   ],
   "id": "a1c30b8cfe28892d"
  },
  {
   "metadata": {},
   "cell_type": "code",
   "outputs": [],
   "execution_count": null,
   "source": [
    "# Cell 4: basic imputation\n",
    "num_cols = df.select_dtypes(include=np.number).columns.tolist()\n",
    "cat_cols = df.select_dtypes(include='object').columns.tolist()\n",
    "\n",
    "# numeric: median\n",
    "imp_num = SimpleImputer(strategy='median')\n",
    "df[num_cols] = imp_num.fit_transform(df[num_cols])\n",
    "\n",
    "# categorical: fill with 'missing'\n",
    "df[cat_cols] = df[cat_cols].fillna('missing')\n"
   ],
   "id": "2cc0d68413a7b8c"
  },
  {
   "metadata": {},
   "cell_type": "code",
   "outputs": [],
   "execution_count": null,
   "source": [
    "# Cell 5: outlier detection (IQR) for numeric columns\n",
    "def remove_outliers_iqr(df, cols, factor=1.5):\n",
    "    df2 = df.copy()\n",
    "    for c in cols:\n",
    "        q1 = df2[c].quantile(0.25)\n",
    "        q3 = df2[c].quantile(0.75)\n",
    "        iqr = q3 - q1\n",
    "        low = q1 - factor * iqr\n",
    "        high = q3 + factor * iqr\n",
    "        # Option: clip rather than drop\n",
    "        df2[c] = df2[c].clip(low, high)\n",
    "    return df2\n",
    "\n",
    "df = remove_outliers_iqr(df, num_cols)\n"
   ],
   "id": "365029696585d900"
  },
  {
   "metadata": {},
   "cell_type": "code",
   "outputs": [],
   "execution_count": null,
   "source": [
    "# Cell 6: feature engineering - polynomial & interactions\n",
    "poly = PolynomialFeatures(degree=2, interaction_only=False, include_bias=False)\n",
    "X_num = df[num_cols]\n",
    "X_poly = poly.fit_transform(X_num)\n",
    "poly_feature_names = poly.get_feature_names_out(num_cols)\n",
    "df_poly = pd.DataFrame(X_poly, columns=poly_feature_names, index=df.index)\n",
    "\n",
    "# drop extremely collinear or constant columns as needed\n",
    "df_model = pd.concat([df_poly, df[cat_cols]], axis=1)\n",
    "df_model.to_csv('Task4/cleaned_dataset.csv', index=False)\n"
   ],
   "id": "e4edab82e68d6fb"
  },
  {
   "metadata": {},
   "cell_type": "code",
   "outputs": [],
   "execution_count": null,
   "source": "",
   "id": "aa13b0c7aa92007c"
  },
  {
   "metadata": {},
   "cell_type": "code",
   "outputs": [],
   "execution_count": null,
   "source": "",
   "id": "6b8daa981547c72a"
  },
  {
   "metadata": {},
   "cell_type": "code",
   "outputs": [],
   "execution_count": null,
   "source": "",
   "id": "1ace1a8aba422eed"
  },
  {
   "metadata": {},
   "cell_type": "code",
   "outputs": [],
   "execution_count": null,
   "source": "",
   "id": "e71b8fa984cc20c9"
  },
  {
   "metadata": {},
   "cell_type": "code",
   "outputs": [],
   "execution_count": null,
   "source": "",
   "id": "3040ec2cd072c0f0"
  },
  {
   "metadata": {},
   "cell_type": "code",
   "outputs": [],
   "execution_count": null,
   "source": "",
   "id": "e75893bb7e205f69"
  },
  {
   "metadata": {},
   "cell_type": "code",
   "outputs": [],
   "execution_count": null,
   "source": "",
   "id": "4981e93d774bd3fc"
  },
  {
   "metadata": {},
   "cell_type": "code",
   "outputs": [],
   "execution_count": null,
   "source": "",
   "id": "bc8ea0d54728de14"
  },
  {
   "metadata": {},
   "cell_type": "code",
   "outputs": [],
   "execution_count": null,
   "source": "",
   "id": "3ea7f333ef5e5f13"
  },
  {
   "metadata": {},
   "cell_type": "code",
   "outputs": [],
   "execution_count": null,
   "source": "",
   "id": "4112efb684ed6bbe"
  },
  {
   "metadata": {},
   "cell_type": "code",
   "outputs": [],
   "execution_count": null,
   "source": "",
   "id": "36b1c10484a161d2"
  }
 ],
 "metadata": {
  "kernelspec": {
   "display_name": "Python 3",
   "language": "python",
   "name": "python3"
  },
  "language_info": {
   "codemirror_mode": {
    "name": "ipython",
    "version": 2
   },
   "file_extension": ".py",
   "mimetype": "text/x-python",
   "name": "python",
   "nbconvert_exporter": "python",
   "pygments_lexer": "ipython2",
   "version": "2.7.6"
  }
 },
 "nbformat": 4,
 "nbformat_minor": 5
}
